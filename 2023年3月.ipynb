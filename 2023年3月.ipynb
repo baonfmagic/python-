{
 "cells": [
  {
   "cell_type": "markdown",
   "id": "54390ec3",
   "metadata": {},
   "source": [
    "# 我的Python学习记录\n",
    ">看看这次我能学到哪里"
   ]
  },
  {
   "cell_type": "code",
   "execution_count": 3,
   "id": "db89e0e8",
   "metadata": {},
   "outputs": [
    {
     "name": "stdout",
     "output_type": "stream",
     "text": [
      "hello,Python\n"
     ]
    }
   ],
   "source": [
    "# 国际惯例\n",
    "print('hello,Python')"
   ]
  },
  {
   "cell_type": "markdown",
   "id": "f3eceaf3",
   "metadata": {},
   "source": [
    "## 缘起\n",
    "\n",
    "几年前我就想学学 Python ，我是计算机专业出身，但大学时并没有学到任何专业知识，单纯的魔兽8级。人到中年放到求知欲比年青时更旺盛，没什么目的，既不需要靠这个吃饭，也不需要一定要弄了什么，学着看。"
   ]
  },
  {
   "cell_type": "markdown",
   "id": "6800681e",
   "metadata": {},
   "source": [
    "## 1 基础知识"
   ]
  },
  {
   "cell_type": "markdown",
   "id": "c4c759e5",
   "metadata": {},
   "source": [
    "### 1.1 逻辑控制"
   ]
  },
  {
   "cell_type": "markdown",
   "id": "7f102375",
   "metadata": {},
   "source": [
    "### 1.1.1 `if`语句\n",
    "`if` 和 `else` 熟悉得不能再熟悉的逻辑控制了，在vba中习惯称呼它为**条件控制**。"
   ]
  },
  {
   "cell_type": "code",
   "execution_count": 5,
   "id": "6f6f36d3",
   "metadata": {},
   "outputs": [
    {
     "name": "stdout",
     "output_type": "stream",
     "text": [
      "8 是个双数\n"
     ]
    }
   ],
   "source": [
    "# 和 VBA 一样，也是 if 。\n",
    "import random\n",
    "r = random.randrange(1, 10) #赋值 r  1-10 的一个随机数。\n",
    "if r % 2 == 0: # 余数为零\n",
    "  print(r,'是个双数')\n",
    "else:\n",
    "  print(r,'是个单数')"
   ]
  }
 ],
 "metadata": {
  "kernelspec": {
   "display_name": "Python 3 (ipykernel)",
   "language": "python",
   "name": "python3"
  },
  "language_info": {
   "codemirror_mode": {
    "name": "ipython",
    "version": 3
   },
   "file_extension": ".py",
   "mimetype": "text/x-python",
   "name": "python",
   "nbconvert_exporter": "python",
   "pygments_lexer": "ipython3",
   "version": "3.11.2"
  }
 },
 "nbformat": 4,
 "nbformat_minor": 5
}
